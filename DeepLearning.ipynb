{
  "nbformat": 4,
  "nbformat_minor": 0,
  "metadata": {
    "colab": {
      "name": "DeepLearning.ipynb",
      "provenance": [],
      "collapsed_sections": [],
      "authorship_tag": "ABX9TyPil1moS8axhn/L72xTBjbz",
      "include_colab_link": true
    },
    "kernelspec": {
      "name": "python3",
      "display_name": "Python 3"
    },
    "language_info": {
      "name": "python"
    },
    "accelerator": "GPU"
  },
  "cells": [
    {
      "cell_type": "markdown",
      "metadata": {
        "id": "view-in-github",
        "colab_type": "text"
      },
      "source": [
        "<a href=\"https://colab.research.google.com/github/kwanghunhan/DeepLearning/blob/master/DeepLearning.ipynb\" target=\"_parent\"><img src=\"https://colab.research.google.com/assets/colab-badge.svg\" alt=\"Open In Colab\"/></a>"
      ]
    },
    {
      "cell_type": "code",
      "metadata": {
        "colab": {
          "base_uri": "https://localhost:8080/"
        },
        "id": "V7pzs4g7BEzG",
        "outputId": "ebe00666-8e03-4d5f-cf9d-8e2adaf4ce08"
      },
      "source": [
        "seconds_in_a_day = 24*60*60\n",
        "seconds_in_a_day"
      ],
      "execution_count": 29,
      "outputs": [
        {
          "output_type": "execute_result",
          "data": {
            "text/plain": [
              "86400"
            ]
          },
          "metadata": {
            "tags": []
          },
          "execution_count": 29
        }
      ]
    },
    {
      "cell_type": "code",
      "metadata": {
        "id": "IQXIZT-yDoWo"
      },
      "source": [
        "import tensorflow as tf"
      ],
      "execution_count": 32,
      "outputs": []
    },
    {
      "cell_type": "code",
      "metadata": {
        "colab": {
          "base_uri": "https://localhost:8080/"
        },
        "id": "gDQvfMDiDqeF",
        "outputId": "629ed32a-6ba6-463c-bfae-7bc8ba642034"
      },
      "source": [
        "tf.debugging.set_log_device_placement(True)\n",
        "\n",
        "# 텐서 생성\n",
        "a = tf.constant([[1.0, 2.0, 3.0], [4.0, 5.0, 6.0]])\n",
        "b = tf.constant([[1.0, 20], [3.0, 4.0], [5.0, 6.0]])\n",
        "c = tf.matmul(a, b)\n",
        "\n",
        "print(c)"
      ],
      "execution_count": 34,
      "outputs": [
        {
          "output_type": "stream",
          "text": [
            "tf.Tensor(\n",
            "[[ 22.  46.]\n",
            " [ 49. 136.]], shape=(2, 2), dtype=float32)\n"
          ],
          "name": "stdout"
        }
      ]
    },
    {
      "cell_type": "code",
      "metadata": {
        "colab": {
          "base_uri": "https://localhost:8080/"
        },
        "id": "V2o86rBRDwsm",
        "outputId": "ed955768-7287-447f-b143-f3dff579525b"
      },
      "source": [
        "tf.debugging.set_log_device_placement(True)\n",
        "\n",
        "# 텐서를 GPU에 할당\n",
        "with tf.device('/GPU:0'):\n",
        "  a = tf.constant([[1.0, 2.0, 3.0], [4.0, 5.0, 6.0]])\n",
        "  b = tf.constant([[1.0, 2.0], [3.0, 4.0], [5.0, 6.0]])\n",
        "\n",
        "c = tf.matmul(a, b)\n",
        "print(c)"
      ],
      "execution_count": 35,
      "outputs": [
        {
          "output_type": "stream",
          "text": [
            "tf.Tensor(\n",
            "[[22. 28.]\n",
            " [49. 64.]], shape=(2, 2), dtype=float32)\n"
          ],
          "name": "stdout"
        }
      ]
    },
    {
      "cell_type": "code",
      "metadata": {
        "colab": {
          "base_uri": "https://localhost:8080/"
        },
        "id": "XW_4GzakEqpu",
        "outputId": "b4d6c5c5-e522-4de3-d927-18fe35fb29ee"
      },
      "source": [
        "hello = tf.constant(\"Hello, TensorFlow!\")\n",
        "node1 = tf.constant(3.0, dtype=tf.float32)\n",
        "node2 = tf.constant(4.0)\n",
        "tf.print(node1, node2)\n",
        "tf.print(hello)"
      ],
      "execution_count": 39,
      "outputs": [
        {
          "output_type": "stream",
          "text": [
            "3 4\n",
            "Hello, TensorFlow!\n"
          ],
          "name": "stdout"
        }
      ]
    },
    {
      "cell_type": "code",
      "metadata": {
        "colab": {
          "base_uri": "https://localhost:8080/"
        },
        "id": "-I7Qoja6FK2s",
        "outputId": "6ba49673-a799-4ba6-e5a0-f2fa36c3fb47"
      },
      "source": [
        "tf.device('/GPU:0')"
      ],
      "execution_count": 40,
      "outputs": [
        {
          "output_type": "execute_result",
          "data": {
            "text/plain": [
              "<tensorflow.python.eager.context._EagerDeviceContext at 0x7f8dd0106780>"
            ]
          },
          "metadata": {
            "tags": []
          },
          "execution_count": 40
        }
      ]
    },
    {
      "cell_type": "code",
      "metadata": {
        "id": "xgoSmnahF3dU"
      },
      "source": [
        "node1 = tf.constant(3.0, tf.float32)\n",
        "node2 = tf.constant(4.0) # also tf.float32 implicitly\n",
        "node3 = tf.add(node1, node2)"
      ],
      "execution_count": 41,
      "outputs": []
    },
    {
      "cell_type": "code",
      "metadata": {
        "colab": {
          "base_uri": "https://localhost:8080/"
        },
        "id": "67HKVlYuG1S-",
        "outputId": "c6dac8dd-c04b-460e-abc7-144a51da0040"
      },
      "source": [
        "tf.print(\"node1:\", node1, \"node2:\", node2)\n",
        "tf.print(\"node3:\", node3)"
      ],
      "execution_count": 42,
      "outputs": [
        {
          "output_type": "stream",
          "text": [
            "node1: 3 node2: 4\n",
            "node3: 7\n"
          ],
          "name": "stdout"
        }
      ]
    },
    {
      "cell_type": "code",
      "metadata": {
        "colab": {
          "base_uri": "https://localhost:8080/"
        },
        "id": "d_els-zQHBTc",
        "outputId": "e8c830cf-5a76-4ab6-e418-89c6e0b08e9f"
      },
      "source": [
        "print(\"node1:\", node1, \"node2:\", node2)\n",
        "print(\"node3:\", node3)"
      ],
      "execution_count": 43,
      "outputs": [
        {
          "output_type": "stream",
          "text": [
            "node1: tf.Tensor(3.0, shape=(), dtype=float32) node2: tf.Tensor(4.0, shape=(), dtype=float32)\n",
            "node3: tf.Tensor(7.0, shape=(), dtype=float32)\n"
          ],
          "name": "stdout"
        }
      ]
    },
    {
      "cell_type": "code",
      "metadata": {
        "colab": {
          "base_uri": "https://localhost:8080/"
        },
        "id": "fS7A1XZtHSok",
        "outputId": "ef877ac3-0923-4a15-d4a8-fc603ad13dbf"
      },
      "source": [
        "tf.print(\"node1:\", node1, \"node2:\", node2)\n",
        "tf.print(\"node3:\", node3)"
      ],
      "execution_count": 44,
      "outputs": [
        {
          "output_type": "stream",
          "text": [
            "node1: 3 node2: 4\n",
            "node3: 7\n"
          ],
          "name": "stdout"
        }
      ]
    },
    {
      "cell_type": "code",
      "metadata": {
        "colab": {
          "base_uri": "https://localhost:8080/"
        },
        "id": "obw2jROsHf_k",
        "outputId": "76f883ce-9d3d-4fab-9668-2a82201f5ad3"
      },
      "source": [
        "# Build graph(tensors) using TensorFlow operations\n",
        "node1 = tf.constant(3.0, tf.float32)\n",
        "node2 = tf.constant(4.0) # also tf.float32 implicitly\n",
        "node3 = tf.add(node1, node2)\n",
        "\n",
        "# feed data and run graph (operation)\n",
        "# update variables in the graph (and return values)\n",
        "tf.print(f\"node1 : {node1}, node2 : {node2}\")\n",
        "tf.print(f\"node3 : {node3}\")"
      ],
      "execution_count": 45,
      "outputs": [
        {
          "output_type": "stream",
          "text": [
            "node1 : 3.0, node2 : 4.0\n",
            "node3 : 7.0\n"
          ],
          "name": "stdout"
        }
      ]
    },
    {
      "cell_type": "code",
      "metadata": {
        "id": "8aJ9ZWpOIapD"
      },
      "source": [
        ""
      ],
      "execution_count": null,
      "outputs": []
    }
  ]
}